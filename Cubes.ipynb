{
 "cells": [
  {
   "cell_type": "code",
   "execution_count": 24,
   "metadata": {},
   "outputs": [],
   "source": [
    "import numpy\n",
    "import cmath\n",
    "import math"
   ]
  },
  {
   "cell_type": "code",
   "execution_count": 25,
   "metadata": {},
   "outputs": [],
   "source": [
    "def Solve(A,B,C,D):\n",
    "    if(A != 0):\n",
    "        p = (3 * A * C - B ** 2) / (3 * A * A)\n",
    "        q = (2 * (B ** 3) - 9 * A * B * C + 27 * (A ** 2) * D ) / ( 27 * ( A ** 3 ) ) \n",
    "        Q = (p/3)**3 + (q/2)**2\n",
    "        if (Q != 0):\n",
    "            alph = (-q / 2 + (Q) ** (0.5)  )**(1/3.0)\n",
    "            if (p == 0 and q == 0):\n",
    "                return ([- B / (3*A)])\n",
    "            if(alph != 0):\n",
    "                beta = -p / (3 * alph)\n",
    "            else:\n",
    "                beta = (-q / 2 - (Q) ** (0.5)  )**(1/3.0)\n",
    "            y1 = alph + beta \n",
    "            y2 = - (alph + beta)/2.0 + 1j * (alph - beta) * ( (3) ** (0.5) ) / 2 \n",
    "            y3 = - (alph + beta)/2.0 - 1j * (alph - beta) * ( (3) ** (0.5) ) / 2 \n",
    "            \n",
    "            x1 = y1 - B / (3*A)\n",
    "            x2 = y2 - B / (3*A)\n",
    "            x3 = y3 - B / (3*A)\n",
    "            return ([x1,x2,x3])\n",
    "        if (Q == 0):\n",
    "            if (p == 0 and q == 0):\n",
    "                return ([- B / (3*A)])\n",
    "            y1 = 2*A\n",
    "            y2 = -A\n",
    "            x1 = y1 - B / (3*A)\n",
    "            x2 = y2 - B / (3*A)\n",
    "            return ([x1,x2])\n",
    "    else:\n",
    "        if(B == 0):\n",
    "            if(C != 0):\n",
    "                return (D/C)\n",
    "            if(C == 0):\n",
    "                return (\"No Solution\")\n",
    "        else:    \n",
    "            Delt = C ** 2 - 4 * B * D\n",
    "            return ([ (- C + (Delt **(0.5)) )/ (2 * B) ,  (- C - (Delt **(0.5)) )/ (2 * B)])\n",
    "        "
   ]
  },
  {
   "cell_type": "code",
   "execution_count": 26,
   "metadata": {},
   "outputs": [
    {
     "data": {
      "text/plain": [
       "[1.0]"
      ]
     },
     "execution_count": 26,
     "metadata": {},
     "output_type": "execute_result"
    }
   ],
   "source": [
    "Solve(1,-3,3,-1)\n",
    "    \n"
   ]
  },
  {
   "cell_type": "code",
   "execution_count": 27,
   "metadata": {},
   "outputs": [
    {
     "data": {
      "text/plain": [
       "[(-0.2600921256224269-0.7759010795250292j),\n",
       " (-4.479815748755145-1.1102230246251565e-16j),\n",
       " (-0.26009212562242756+0.7759010795250293j)]"
      ]
     },
     "execution_count": 27,
     "metadata": {},
     "output_type": "execute_result"
    }
   ],
   "source": [
    "Solve(1,5,3,3)"
   ]
  },
  {
   "cell_type": "code",
   "execution_count": 28,
   "metadata": {},
   "outputs": [
    {
     "data": {
      "text/plain": [
       "0.6666666666666666"
      ]
     },
     "execution_count": 28,
     "metadata": {},
     "output_type": "execute_result"
    }
   ],
   "source": [
    "Solve(0,0,3,2)"
   ]
  },
  {
   "cell_type": "code",
   "execution_count": 29,
   "metadata": {},
   "outputs": [
    {
     "data": {
      "text/plain": [
       "[-1.0, -2.0]"
      ]
     },
     "execution_count": 29,
     "metadata": {},
     "output_type": "execute_result"
    }
   ],
   "source": [
    "Solve(0,1,3,2)"
   ]
  },
  {
   "cell_type": "code",
   "execution_count": null,
   "metadata": {},
   "outputs": [],
   "source": []
  },
  {
   "cell_type": "code",
   "execution_count": null,
   "metadata": {},
   "outputs": [],
   "source": []
  }
 ],
 "metadata": {
  "kernelspec": {
   "display_name": "Python 3",
   "language": "python",
   "name": "python3"
  },
  "language_info": {
   "codemirror_mode": {
    "name": "ipython",
    "version": 3
   },
   "file_extension": ".py",
   "mimetype": "text/x-python",
   "name": "python",
   "nbconvert_exporter": "python",
   "pygments_lexer": "ipython3",
   "version": "3.7.1"
  }
 },
 "nbformat": 4,
 "nbformat_minor": 2
}

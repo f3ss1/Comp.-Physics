{
 "cells": [
  {
   "cell_type": "code",
   "execution_count": 1,
   "metadata": {},
   "outputs": [],
   "source": [
    "import numpy as np\n",
    "from matplotlib import pyplot as plt"
   ]
  },
  {
   "cell_type": "code",
   "execution_count": 2,
   "metadata": {},
   "outputs": [],
   "source": [
    "def f1(x):\n",
    "    return np.sin(x) + np.cos(x) + 1"
   ]
  },
  {
   "cell_type": "code",
   "execution_count": 4,
   "metadata": {},
   "outputs": [
    {
     "name": "stdout",
     "output_type": "stream",
     "text": [
      "4.325447756526264\n",
      "4.325447249673353\n",
      "4.325447249674106\n",
      "4.325447249674106\n"
     ]
    },
    {
     "data": {
      "text/plain": [
       "[<matplotlib.lines.Line2D at 0x11b681fd0>,\n",
       " <matplotlib.lines.Line2D at 0x11b68e160>,\n",
       " <matplotlib.lines.Line2D at 0x11b68e518>,\n",
       " <matplotlib.lines.Line2D at 0x11b68e828>]"
      ]
     },
     "execution_count": 4,
     "metadata": {},
     "output_type": "execute_result"
    },
    {
     "data": {
      "image/png": "[encoded data removed]",
      "text/plain": [
       "<Figure size 432x288 with 1 Axes>"
      ]
     },
     "metadata": {
      "needs_background": "light"
     },
     "output_type": "display_data"
    }
   ],
   "source": [
    "start=0\n",
    "end=2\n",
    "x=np.linspace(start, end, 10**6)\n",
    "weight = x[1]-x[0]\n",
    "F1 = list()\n",
    "F2 = list()\n",
    "F3 = list()\n",
    "F4 = list()\n",
    "I1 = 0\n",
    "I2 = 0\n",
    "I3 = 0\n",
    "I4 = 0\n",
    "for w in x:\n",
    "    I1+=weight*f1(w)#прямоугольники\n",
    "    F1.append(I1)\n",
    "    I2+=(f1(w)+f1(w+weight))*weight/2#трапеции\n",
    "    F2.append(I2)\n",
    "    I3+=(f1(w)+3*f1(w+weight/3)+3*f1(w+2*weight/3)+f1(w+weight))*weight/8#3/8\n",
    "    F3.append(I3)\n",
    "    I4+=(f1(w)+4*f1(w+weight/2)+f1(w+weight))*weight/6#симпсон\n",
    "    F4.append(I4)\n",
    "print(I1)\n",
    "print(I2)\n",
    "print(I3)\n",
    "print(I4)\n",
    "plt.plot(x, F1, '-',x, F2, '-',x, F3, '-',x, F4, '-',)\n"
   ]
  },
  {
   "cell_type": "code",
   "execution_count": null,
   "metadata": {},
   "outputs": [],
   "source": []
  }
 ],
 "metadata": {
  "kernelspec": {
   "display_name": "Python 3",
   "language": "python",
   "name": "python3"
  },
  "language_info": {
   "codemirror_mode": {
    "name": "ipython",
    "version": 3
   },
   "file_extension": ".py",
   "mimetype": "text/x-python",
   "name": "python",
   "nbconvert_exporter": "python",
   "pygments_lexer": "ipython3",
   "version": "3.7.1"
  }
 },
 "nbformat": 4,
 "nbformat_minor": 2
}

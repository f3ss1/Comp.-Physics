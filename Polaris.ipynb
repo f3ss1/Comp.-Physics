{
 "cells": [
  {
   "cell_type": "code",
   "execution_count": 3,
   "metadata": {},
   "outputs": [],
   "source": [
    "import numpy as np\n",
    "from random import randint"
   ]
  },
  {
   "cell_type": "code",
   "execution_count": 5,
   "metadata": {},
   "outputs": [
    {
     "data": {
      "text/plain": [
       "array([[  2,   8],\n",
       "       [  8,   7],\n",
       "       [ -6,   7],\n",
       "       [  7,   6],\n",
       "       [  1, -10],\n",
       "       [ -4,   6],\n",
       "       [ -5,  -1],\n",
       "       [ -7,   8],\n",
       "       [  0,   1],\n",
       "       [  6,   1]])"
      ]
     },
     "execution_count": 5,
     "metadata": {},
     "output_type": "execute_result"
    }
   ],
   "source": [
    "a=np.array([randint(-10,10) for i in range(20)]).reshape(10, 2)\n",
    "a"
   ]
  },
  {
   "cell_type": "code",
   "execution_count": 7,
   "metadata": {},
   "outputs": [
    {
     "data": {
      "text/plain": [
       "array([[ 8.24621125,  1.32581766],\n",
       "       [10.63014581,  0.71883   ],\n",
       "       [ 9.21954446,  0.86217005],\n",
       "       [ 9.21954446,  0.70862627],\n",
       "       [10.04987562, -1.47112767],\n",
       "       [ 7.21110255,  0.98279372],\n",
       "       [ 5.09901951, -0.19739556],\n",
       "       [10.63014581,  0.85196633],\n",
       "       [ 1.        ,  1.57079633],\n",
       "       [ 6.08276253,  0.16514868]])"
      ]
     },
     "execution_count": 7,
     "metadata": {},
     "output_type": "execute_result"
    }
   ],
   "source": [
    "b=np.zeros(20).reshape(10,2)\n",
    "for i in range(10):\n",
    "    b[i,0]=np.sqrt(a[i,0]**2+a[i,1]**2)\n",
    "    b[i,1]=np.arcsin(a[i,1]/b[i,0]) if b[i,0]!=0 else 0.\n",
    "b"
   ]
  }
 ],
 "metadata": {
  "kernelspec": {
   "display_name": "Python 3",
   "language": "python",
   "name": "python3"
  },
  "language_info": {
   "codemirror_mode": {
    "name": "ipython",
    "version": 3
   },
   "file_extension": ".py",
   "mimetype": "text/x-python",
   "name": "python",
   "nbconvert_exporter": "python",
   "pygments_lexer": "ipython3",
   "version": "3.7.1"
  }
 },
 "nbformat": 4,
 "nbformat_minor": 2
}

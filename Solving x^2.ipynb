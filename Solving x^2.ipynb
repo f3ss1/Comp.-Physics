{
 "cells": [
  {
   "cell_type": "code",
   "execution_count": 4,
   "metadata": {},
   "outputs": [],
   "source": [
    "import numpy as np"
   ]
  },
  {
   "cell_type": "code",
   "execution_count": 23,
   "metadata": {},
   "outputs": [],
   "source": [
    "def Square (a,b,c):\n",
    "    if (a==0):\n",
    "        return(str(-c/b))\n",
    "    else:\n",
    "        D=b**2-4*a*c\n",
    "        if(D>0):\n",
    "            x1 = str((-b+np.sqrt(D))/(2*a))\n",
    "            x2 = str((-b-np.sqrt(D))/(2*a))\n",
    "        elif (D==0): \n",
    "            x1 = str(-b/(2*a))\n",
    "            x2 = str(-b/(2*a))\n",
    "        else:\n",
    "            D=-D\n",
    "            x1 = str(-b/(2*a))+' + '+str(np.sqrt(D))+'i'\n",
    "            x2 = str(-b/(2*a))+' - '+str(np.sqrt(D))+'i'\n",
    "    return([x1,x2])"
   ]
  },
  {
   "cell_type": "code",
   "execution_count": 28,
   "metadata": {},
   "outputs": [
    {
     "data": {
      "text/plain": [
       "['-1.0', '-3.0']"
      ]
     },
     "execution_count": 28,
     "metadata": {},
     "output_type": "execute_result"
    }
   ],
   "source": [
    "Square(1,4,3)"
   ]
  },
  {
   "cell_type": "code",
   "execution_count": 29,
   "metadata": {},
   "outputs": [
    {
     "data": {
      "text/plain": [
       "['-2.0 + 2.0i', '-2.0 - 2.0i']"
      ]
     },
     "execution_count": 29,
     "metadata": {},
     "output_type": "execute_result"
    }
   ],
   "source": [
    "Square(1,4,5)"
   ]
  },
  {
   "cell_type": "code",
   "execution_count": 30,
   "metadata": {},
   "outputs": [
    {
     "data": {
      "text/plain": [
       "'-0.75'"
      ]
     },
     "execution_count": 30,
     "metadata": {},
     "output_type": "execute_result"
    }
   ],
   "source": [
    "Square(0,4,3)"
   ]
  },
  {
   "cell_type": "code",
   "execution_count": null,
   "metadata": {},
   "outputs": [],
   "source": []
  }
 ],
 "metadata": {
  "kernelspec": {
   "display_name": "Python 3",
   "language": "python",
   "name": "python3"
  },
  "language_info": {
   "codemirror_mode": {
    "name": "ipython",
    "version": 3
   },
   "file_extension": ".py",
   "mimetype": "text/x-python",
   "name": "python",
   "nbconvert_exporter": "python",
   "pygments_lexer": "ipython3",
   "version": "3.7.1"
  }
 },
 "nbformat": 4,
 "nbformat_minor": 2
}

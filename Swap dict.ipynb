{
 "cells": [
  {
   "cell_type": "code",
   "execution_count": 2,
   "metadata": {},
   "outputs": [
    {
     "name": "stdout",
     "output_type": "stream",
     "text": [
      "{10: ['Сережа', 'Витя'], 7: ['Дима', 'Полина'], 9: ['Федя'], 4: ['Миша']}\n"
     ]
    }
   ],
   "source": [
    "\n",
    "names={'Сережа':10, 'Дима':7, 'Витя':10, 'Федя':9, 'Полина':7, 'Миша':4}\n",
    "marks={}\n",
    "for i in names.keys():\n",
    "    if marks.get(names[i])==None:\n",
    "        marks[names[i]] = [i] \n",
    "    else:\n",
    "        marks[names[i]].append(i) \n",
    "print(marks)"
   ]
  },
  {
   "cell_type": "code",
   "execution_count": null,
   "metadata": {},
   "outputs": [],
   "source": []
  }
 ],
 "metadata": {
  "kernelspec": {
   "display_name": "Python 3",
   "language": "python",
   "name": "python3"
  },
  "language_info": {
   "codemirror_mode": {
    "name": "ipython",
    "version": 3
   },
   "file_extension": ".py",
   "mimetype": "text/x-python",
   "name": "python",
   "nbconvert_exporter": "python",
   "pygments_lexer": "ipython3",
   "version": "3.7.1"
  }
 },
 "nbformat": 4,
 "nbformat_minor": 2
}

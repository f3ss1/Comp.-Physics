{
 "cells": [
  {
   "cell_type": "code",
   "execution_count": 1,
   "metadata": {},
   "outputs": [],
   "source": [
    "import numpy as np\n",
    "from matplotlib import pyplot as plt"
   ]
  },
  {
   "cell_type": "code",
   "execution_count": 8,
   "metadata": {},
   "outputs": [],
   "source": [
    "def f1(x):\n",
    "    return np.sin(x)\n",
    "def f2(x):\n",
    "    return np.cos(x)"
   ]
  },
  {
   "cell_type": "code",
   "execution_count": 17,
   "metadata": {},
   "outputs": [
    {
     "ename": "SyntaxError",
     "evalue": "invalid syntax (<ipython-input-17-c58672871867>, line 1)",
     "output_type": "error",
     "traceback": [
      "\u001b[0;36m  File \u001b[0;32m\"<ipython-input-17-c58672871867>\"\u001b[0;36m, line \u001b[0;32m1\u001b[0m\n\u001b[0;31m    def sinf(float(dot)):\u001b[0m\n\u001b[0m                  ^\u001b[0m\n\u001b[0;31mSyntaxError\u001b[0m\u001b[0;31m:\u001b[0m invalid syntax\n"
     ]
    }
   ],
   "source": [
    "def sinf(float(dot)):\n",
    "    acc = float(6)\n",
    "    derp = (f1(dot+10**(-acc))-f1(dot))/(10**(-acc))\n",
    "    derr = f2(dot)\n",
    "    bp = f1(dot) - derp*dot\n",
    "    br = f1(dot) - derr*dot\n",
    "    x=np.linspace(dot-np.pi, dot+np.pi, 10**6)\n",
    "    f=list()\n",
    "    fderp = list()\n",
    "    fderr = list()\n",
    "    max = f1(dot)\n",
    "    min = f1(dot)\n",
    "    for w in x:\n",
    "        f.append(f1(w))\n",
    "        if (f1(w)>max):\n",
    "        max = f1(w)\n",
    "        if (f1(w)<min):\n",
    "            min = f1(w)\n",
    "    for w in x:\n",
    "        fderp.append(derp*w+bp)\n",
    "        fderr.append(derr*w+br)\n",
    "    plt.plot(x, f, '-', x, fderp, '-', x, fderr, '-')"
   ]
  },
  {
   "cell_type": "code",
   "execution_count": null,
   "metadata": {},
   "outputs": [],
   "source": [
    "sinf(0)"
   ]
  }
 ],
 "metadata": {
  "kernelspec": {
   "display_name": "Python 3",
   "language": "python",
   "name": "python3"
  },
  "language_info": {
   "codemirror_mode": {
    "name": "ipython",
    "version": 3
   },
   "file_extension": ".py",
   "mimetype": "text/x-python",
   "name": "python",
   "nbconvert_exporter": "python",
   "pygments_lexer": "ipython3",
   "version": "3.7.1"
  }
 },
 "nbformat": 4,
 "nbformat_minor": 2
}
